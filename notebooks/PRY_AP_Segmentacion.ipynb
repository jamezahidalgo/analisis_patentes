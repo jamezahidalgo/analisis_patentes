{
  "nbformat": 4,
  "nbformat_minor": 0,
  "metadata": {
    "colab": {
      "provenance": []
    },
    "kernelspec": {
      "name": "python3",
      "display_name": "Python 3"
    },
    "language_info": {
      "name": "python"
    }
  },
  "cells": [
    {
      "cell_type": "markdown",
      "source": [
        "# Análisis de Datos de Patentes\n",
        "\n",
        "**Autor:** Jazna Meza Hidalgo\n",
        "\n",
        "**Correo Electrónico:** ja.meza@profesor.duoc.cl\n",
        "\n",
        "**Fecha de Creación:** Septiembre de 2024  \n",
        "**Versión:** 1.0  \n",
        "\n",
        "---\n",
        "\n",
        "## Descripción\n",
        "\n",
        "Este notebook realiza un análisis de datos de patentes, enfocándose en la extracción de títulos y abstracts relevantes y la exclusión de registros basados en ciertos términos específicos. Se utilizan técnicas de procesamiento de lenguaje natural (PLN) y `TfidfVectorizer` para el filtrado.\n",
        "\n",
        "---\n",
        "\n",
        "## Requisitos de Software\n",
        "\n",
        "Este notebook fue desarrollado con Python 3.8. A continuación se listan las bibliotecas necesarias:\n",
        "\n",
        "- pandas (>=1.1.0)\n",
        "- scikit-learn (>=0.24.0)\n",
        "- openpyxl (>=3.0.0) para la exportación a Excel\n",
        "\n",
        "Para verificar si está instalado openpyxl ejecutar:\n",
        "\n",
        "```bash\n",
        "pip show openpyxl\n",
        "```\n",
        "En caso de que no esté instalado se puede instalar las bibliotecas ejecutando:\n",
        "\n",
        "```bash\n",
        "pip install nltk scikit-learn openpyxl\n",
        "```\n",
        "En caso de que openpyxl esté instalado entonces sólo nltk y scikit-learn ejecutando:\n",
        "\n",
        "```bash\n",
        "pip install nltk scikit-learn\n",
        "```\n"
      ],
      "metadata": {
        "id": "0p7Sd6fYWWLm"
      }
    },
    {
      "cell_type": "markdown",
      "source": [
        "# Carga de datos"
      ],
      "metadata": {
        "id": "TLa_5vMQS_OS"
      }
    },
    {
      "cell_type": "markdown",
      "source": [
        "## Datos de patentes de cada área"
      ],
      "metadata": {
        "id": "8m4BDLKOTCc8"
      }
    },
    {
      "cell_type": "code",
      "execution_count": 7,
      "metadata": {
        "colab": {
          "base_uri": "https://localhost:8080/"
        },
        "id": "8K8CrBWRA9Lk",
        "outputId": "1b5d5f40-7eee-4b24-ecba-6a98a25a660e"
      },
      "outputs": [
        {
          "output_type": "stream",
          "name": "stdout",
          "text": [
            "--2024-09-08 23:48:59--  https://raw.githubusercontent.com/jamezahidalgo/analisis_patentes/master/data/data_patentes_area.csv\n",
            "Resolving raw.githubusercontent.com (raw.githubusercontent.com)... 185.199.109.133, 185.199.108.133, 185.199.111.133, ...\n",
            "Connecting to raw.githubusercontent.com (raw.githubusercontent.com)|185.199.109.133|:443... connected.\n",
            "HTTP request sent, awaiting response... 200 OK\n",
            "Length: 12825490 (12M) [text/plain]\n",
            "Saving to: ‘data/data_patentes_area.csv’\n",
            "\n",
            "data_patentes_area. 100%[===================>]  12.23M  --.-KB/s    in 0.1s    \n",
            "\n",
            "2024-09-08 23:49:00 (113 MB/s) - ‘data/data_patentes_area.csv’ saved [12825490/12825490]\n",
            "\n"
          ]
        }
      ],
      "source": [
        "# Crear la carpeta data si no existe\n",
        "!mkdir -p data\n",
        "\n",
        "# Descargar el archivo y guardarlo en la carpeta data\n",
        "!wget -P data https://raw.githubusercontent.com/jamezahidalgo/analisis_patentes/master/data/data_patentes_area.csv"
      ]
    },
    {
      "cell_type": "markdown",
      "source": [
        "## Archivo con datos de configuración"
      ],
      "metadata": {
        "id": "3jVp4FF0TGhh"
      }
    },
    {
      "cell_type": "code",
      "source": [
        "# Crear la carpeta data si no existe\n",
        "!mkdir -p config\n",
        "\n",
        "# Descargar el archivo y guardarlo en la carpeta data\n",
        "!wget -P config https://raw.githubusercontent.com/jamezahidalgo/analisis_patentes/master/config/config.json"
      ],
      "metadata": {
        "colab": {
          "base_uri": "https://localhost:8080/"
        },
        "id": "pho8xCbjBdaS",
        "outputId": "8106b5c9-0dfc-4845-e72b-45ab3d6a6d1e"
      },
      "execution_count": 3,
      "outputs": [
        {
          "output_type": "stream",
          "name": "stdout",
          "text": [
            "--2024-09-08 23:44:05--  https://raw.githubusercontent.com/jamezahidalgo/analisis_patentes/master/config/config.json\n",
            "Resolving raw.githubusercontent.com (raw.githubusercontent.com)... 185.199.111.133, 185.199.108.133, 185.199.110.133, ...\n",
            "Connecting to raw.githubusercontent.com (raw.githubusercontent.com)|185.199.111.133|:443... connected.\n",
            "HTTP request sent, awaiting response... 200 OK\n",
            "Length: 1296 (1.3K) [text/plain]\n",
            "Saving to: ‘config/config.json’\n",
            "\n",
            "\rconfig.json           0%[                    ]       0  --.-KB/s               \rconfig.json         100%[===================>]   1.27K  --.-KB/s    in 0s      \n",
            "\n",
            "2024-09-08 23:44:05 (49.9 MB/s) - ‘config/config.json’ saved [1296/1296]\n",
            "\n"
          ]
        }
      ]
    },
    {
      "cell_type": "markdown",
      "source": [
        "# Instalación de librerías"
      ],
      "metadata": {
        "id": "Aske4WcDTKnc"
      }
    },
    {
      "cell_type": "code",
      "source": [
        "!pip install nltk scikit-learn"
      ],
      "metadata": {
        "colab": {
          "base_uri": "https://localhost:8080/"
        },
        "id": "YQNl35DlHXA6",
        "outputId": "5052ed12-2f2e-4a7a-9635-5a22a9023d81"
      },
      "execution_count": 22,
      "outputs": [
        {
          "output_type": "stream",
          "name": "stdout",
          "text": [
            "Requirement already satisfied: nltk in /usr/local/lib/python3.10/dist-packages (3.8.1)\n",
            "Requirement already satisfied: scikit-learn in /usr/local/lib/python3.10/dist-packages (1.3.2)\n",
            "Requirement already satisfied: click in /usr/local/lib/python3.10/dist-packages (from nltk) (8.1.7)\n",
            "Requirement already satisfied: joblib in /usr/local/lib/python3.10/dist-packages (from nltk) (1.4.2)\n",
            "Requirement already satisfied: regex>=2021.8.3 in /usr/local/lib/python3.10/dist-packages (from nltk) (2024.5.15)\n",
            "Requirement already satisfied: tqdm in /usr/local/lib/python3.10/dist-packages (from nltk) (4.66.5)\n",
            "Requirement already satisfied: numpy<2.0,>=1.17.3 in /usr/local/lib/python3.10/dist-packages (from scikit-learn) (1.26.4)\n",
            "Requirement already satisfied: scipy>=1.5.0 in /usr/local/lib/python3.10/dist-packages (from scikit-learn) (1.13.1)\n",
            "Requirement already satisfied: threadpoolctl>=2.0.0 in /usr/local/lib/python3.10/dist-packages (from scikit-learn) (3.5.0)\n"
          ]
        }
      ]
    },
    {
      "cell_type": "markdown",
      "source": [
        "# Importación de librerías"
      ],
      "metadata": {
        "id": "is2im7V9TNh7"
      }
    },
    {
      "cell_type": "code",
      "source": [
        "import pandas as pd\n",
        "import numpy as np\n",
        "import nltk\n",
        "\n",
        "from sklearn.feature_extraction.text import TfidfVectorizer\n",
        "from nltk.corpus import stopwords"
      ],
      "metadata": {
        "id": "Z2a2AO60Bj4J"
      },
      "execution_count": 26,
      "outputs": []
    },
    {
      "cell_type": "markdown",
      "source": [
        "# Descarga de recursos"
      ],
      "metadata": {
        "id": "XVjGhEdwTQ9V"
      }
    },
    {
      "cell_type": "code",
      "source": [
        "# Descargar recursos de NLTK\n",
        "nltk.download('punkt')\n",
        "nltk.download('stopwords')"
      ],
      "metadata": {
        "colab": {
          "base_uri": "https://localhost:8080/"
        },
        "id": "U_5RE5vdHSLv",
        "outputId": "2c68ce13-4371-489e-d864-56fa689be44a"
      },
      "execution_count": 25,
      "outputs": [
        {
          "output_type": "stream",
          "name": "stderr",
          "text": [
            "[nltk_data] Downloading package punkt to /root/nltk_data...\n",
            "[nltk_data]   Unzipping tokenizers/punkt.zip.\n",
            "[nltk_data] Downloading package stopwords to /root/nltk_data...\n",
            "[nltk_data]   Unzipping corpora/stopwords.zip.\n"
          ]
        },
        {
          "output_type": "execute_result",
          "data": {
            "text/plain": [
              "True"
            ]
          },
          "metadata": {},
          "execution_count": 25
        }
      ]
    },
    {
      "cell_type": "markdown",
      "source": [
        "# Funcionamiento de exclusión de patentes"
      ],
      "metadata": {
        "id": "eMP1hD0CTUwm"
      }
    },
    {
      "cell_type": "markdown",
      "source": [
        "## Carga de datos"
      ],
      "metadata": {
        "id": "Bs5r-uYNTakT"
      }
    },
    {
      "cell_type": "code",
      "source": [
        "data = pd.read_csv(\"data/data_patentes_area.csv\")\n",
        "data.shape"
      ],
      "metadata": {
        "colab": {
          "base_uri": "https://localhost:8080/"
        },
        "id": "CBEMco_EBpHB",
        "outputId": "f95b3377-570c-4eb8-82da-92cc3f2b438f"
      },
      "execution_count": 66,
      "outputs": [
        {
          "output_type": "execute_result",
          "data": {
            "text/plain": [
              "(9567, 6)"
            ]
          },
          "metadata": {},
          "execution_count": 66
        }
      ]
    },
    {
      "cell_type": "code",
      "source": [
        "data.columns"
      ],
      "metadata": {
        "colab": {
          "base_uri": "https://localhost:8080/"
        },
        "id": "2-Vg56btBzZE",
        "outputId": "fb483180-b069-4872-d5f0-48d2f74b5ef3"
      },
      "execution_count": 67,
      "outputs": [
        {
          "output_type": "execute_result",
          "data": {
            "text/plain": [
              "Index(['title', 'abstract', 'publication_date', 'publication_year',\n",
              "       'applicants', 'area'],\n",
              "      dtype='object')"
            ]
          },
          "metadata": {},
          "execution_count": 67
        }
      ]
    },
    {
      "cell_type": "code",
      "source": [
        "data.info()"
      ],
      "metadata": {
        "colab": {
          "base_uri": "https://localhost:8080/"
        },
        "id": "3RMnR98VCuVl",
        "outputId": "9de754ea-0acb-4f7a-dbf5-f4f68fd3c7bd"
      },
      "execution_count": 68,
      "outputs": [
        {
          "output_type": "stream",
          "name": "stdout",
          "text": [
            "<class 'pandas.core.frame.DataFrame'>\n",
            "RangeIndex: 9567 entries, 0 to 9566\n",
            "Data columns (total 6 columns):\n",
            " #   Column            Non-Null Count  Dtype \n",
            "---  ------            --------------  ----- \n",
            " 0   title             9567 non-null   object\n",
            " 1   abstract          9567 non-null   object\n",
            " 2   publication_date  9567 non-null   object\n",
            " 3   publication_year  9567 non-null   int64 \n",
            " 4   applicants        9567 non-null   object\n",
            " 5   area              9567 non-null   object\n",
            "dtypes: int64(1), object(5)\n",
            "memory usage: 448.6+ KB\n"
          ]
        }
      ]
    },
    {
      "cell_type": "markdown",
      "source": [
        "## Preprocesamiento"
      ],
      "metadata": {
        "id": "YcPh86w7TrZ9"
      }
    },
    {
      "cell_type": "code",
      "source": [
        "# Convertir el contenido de la columna 'title' a minúsculas\n",
        "data['title'] = data['title'].str.lower()\n",
        "data.loc[:,'title'] = data['title'].astype(str)"
      ],
      "metadata": {
        "id": "eatvd7E-DOkA"
      },
      "execution_count": 69,
      "outputs": []
    },
    {
      "cell_type": "code",
      "source": [
        "# Convertir el contenido de la columna 'title' a minúsculas\n",
        "data['abstract'] = data['abstract'].str.lower()\n",
        "data.loc[:,'abstract'] = data['abstract'].astype(str)"
      ],
      "metadata": {
        "id": "egbaAnVoPJGq"
      },
      "execution_count": 70,
      "outputs": []
    },
    {
      "cell_type": "markdown",
      "source": [
        "## Obtención de patentes repetidas"
      ],
      "metadata": {
        "id": "8muWDHd3Tiet"
      }
    },
    {
      "cell_type": "code",
      "source": [
        "# Agrupar por todas las columnas y contar las ocurrencias\n",
        "repeticiones = data.groupby(['title', 'abstract', 'publication_date', 'publication_year', 'applicants', 'area']).size()\n",
        "\n",
        "# Filtrar las filas que se repiten\n",
        "repeticiones_mayor_1 = repeticiones[repeticiones > 1]\n",
        "\n",
        "# Convertir el resultado a DataFrame para una visualización más clara (opcional)\n",
        "repeticiones_df = repeticiones_mayor_1.reset_index(name='frecuencia')\n",
        "\n",
        "repeticiones_df"
      ],
      "metadata": {
        "colab": {
          "base_uri": "https://localhost:8080/",
          "height": 512
        },
        "id": "K2ycGiyWD8q_",
        "outputId": "b0d64529-0522-4f31-8506-616a43b0302b"
      },
      "execution_count": 71,
      "outputs": [
        {
          "output_type": "execute_result",
          "data": {
            "text/plain": [
              "                                               title  \\\n",
              "0  automatic generation of assert statements for ...   \n",
              "1  automatic repair of computing devices in a dat...   \n",
              "2                             fact management system   \n",
              "3  method and arrangement for managing power cons...   \n",
              "4  overflow management configuration engine in a ...   \n",
              "5  secure methods and systems for environmental c...   \n",
              "6  systems and methods for renewable powerplant s...   \n",
              "\n",
              "                                            abstract publication_date  \\\n",
              "0  an assert statement generator employs a neural...       2022-03-03   \n",
              "1  a management device for managing a plurality o...       2021-01-28   \n",
              "2  systems and methods for fact management are pr...       2020-03-19   \n",
              "3  the present invention relates to a method and ...       2020-01-09   \n",
              "4  methods, systems, and computer storage media f...       2023-01-12   \n",
              "5  a method and system are provided for environme...       2021-08-19   \n",
              "6  the present disclosure provides systems and me...       2023-04-27   \n",
              "\n",
              "   publication_year                          applicants  \\\n",
              "0              2022  MICROSOFT TECHNOLOGY LICENSING LLC   \n",
              "1              2021                     CORE SCIENT INC   \n",
              "2              2020                    COFFING DANIEL L   \n",
              "3              2020               EPIROC ROCK DRILLS AB   \n",
              "4              2023     THE BOSTON CONSULTING GROUP INC   \n",
              "5              2021                  ABDELSAMIE MAHER A   \n",
              "6              2023                        8ME NOVA LLC   \n",
              "\n",
              "                      area  frecuencia  \n",
              "0  Extracción de minerales           2  \n",
              "1  Concentración minerales           2  \n",
              "2  Concentración minerales           2  \n",
              "3  Extracción de minerales           2  \n",
              "4  Concentración minerales           2  \n",
              "5  Concentración minerales           2  \n",
              "6  Concentración minerales           2  "
            ],
            "text/html": [
              "\n",
              "  <div id=\"df-4c2d7209-b7fb-4b48-a0bd-4bd0b97f3b5b\" class=\"colab-df-container\">\n",
              "    <div>\n",
              "<style scoped>\n",
              "    .dataframe tbody tr th:only-of-type {\n",
              "        vertical-align: middle;\n",
              "    }\n",
              "\n",
              "    .dataframe tbody tr th {\n",
              "        vertical-align: top;\n",
              "    }\n",
              "\n",
              "    .dataframe thead th {\n",
              "        text-align: right;\n",
              "    }\n",
              "</style>\n",
              "<table border=\"1\" class=\"dataframe\">\n",
              "  <thead>\n",
              "    <tr style=\"text-align: right;\">\n",
              "      <th></th>\n",
              "      <th>title</th>\n",
              "      <th>abstract</th>\n",
              "      <th>publication_date</th>\n",
              "      <th>publication_year</th>\n",
              "      <th>applicants</th>\n",
              "      <th>area</th>\n",
              "      <th>frecuencia</th>\n",
              "    </tr>\n",
              "  </thead>\n",
              "  <tbody>\n",
              "    <tr>\n",
              "      <th>0</th>\n",
              "      <td>automatic generation of assert statements for ...</td>\n",
              "      <td>an assert statement generator employs a neural...</td>\n",
              "      <td>2022-03-03</td>\n",
              "      <td>2022</td>\n",
              "      <td>MICROSOFT TECHNOLOGY LICENSING LLC</td>\n",
              "      <td>Extracción de minerales</td>\n",
              "      <td>2</td>\n",
              "    </tr>\n",
              "    <tr>\n",
              "      <th>1</th>\n",
              "      <td>automatic repair of computing devices in a dat...</td>\n",
              "      <td>a management device for managing a plurality o...</td>\n",
              "      <td>2021-01-28</td>\n",
              "      <td>2021</td>\n",
              "      <td>CORE SCIENT INC</td>\n",
              "      <td>Concentración minerales</td>\n",
              "      <td>2</td>\n",
              "    </tr>\n",
              "    <tr>\n",
              "      <th>2</th>\n",
              "      <td>fact management system</td>\n",
              "      <td>systems and methods for fact management are pr...</td>\n",
              "      <td>2020-03-19</td>\n",
              "      <td>2020</td>\n",
              "      <td>COFFING DANIEL L</td>\n",
              "      <td>Concentración minerales</td>\n",
              "      <td>2</td>\n",
              "    </tr>\n",
              "    <tr>\n",
              "      <th>3</th>\n",
              "      <td>method and arrangement for managing power cons...</td>\n",
              "      <td>the present invention relates to a method and ...</td>\n",
              "      <td>2020-01-09</td>\n",
              "      <td>2020</td>\n",
              "      <td>EPIROC ROCK DRILLS AB</td>\n",
              "      <td>Extracción de minerales</td>\n",
              "      <td>2</td>\n",
              "    </tr>\n",
              "    <tr>\n",
              "      <th>4</th>\n",
              "      <td>overflow management configuration engine in a ...</td>\n",
              "      <td>methods, systems, and computer storage media f...</td>\n",
              "      <td>2023-01-12</td>\n",
              "      <td>2023</td>\n",
              "      <td>THE BOSTON CONSULTING GROUP INC</td>\n",
              "      <td>Concentración minerales</td>\n",
              "      <td>2</td>\n",
              "    </tr>\n",
              "    <tr>\n",
              "      <th>5</th>\n",
              "      <td>secure methods and systems for environmental c...</td>\n",
              "      <td>a method and system are provided for environme...</td>\n",
              "      <td>2021-08-19</td>\n",
              "      <td>2021</td>\n",
              "      <td>ABDELSAMIE MAHER A</td>\n",
              "      <td>Concentración minerales</td>\n",
              "      <td>2</td>\n",
              "    </tr>\n",
              "    <tr>\n",
              "      <th>6</th>\n",
              "      <td>systems and methods for renewable powerplant s...</td>\n",
              "      <td>the present disclosure provides systems and me...</td>\n",
              "      <td>2023-04-27</td>\n",
              "      <td>2023</td>\n",
              "      <td>8ME NOVA LLC</td>\n",
              "      <td>Concentración minerales</td>\n",
              "      <td>2</td>\n",
              "    </tr>\n",
              "  </tbody>\n",
              "</table>\n",
              "</div>\n",
              "    <div class=\"colab-df-buttons\">\n",
              "\n",
              "  <div class=\"colab-df-container\">\n",
              "    <button class=\"colab-df-convert\" onclick=\"convertToInteractive('df-4c2d7209-b7fb-4b48-a0bd-4bd0b97f3b5b')\"\n",
              "            title=\"Convert this dataframe to an interactive table.\"\n",
              "            style=\"display:none;\">\n",
              "\n",
              "  <svg xmlns=\"http://www.w3.org/2000/svg\" height=\"24px\" viewBox=\"0 -960 960 960\">\n",
              "    <path d=\"M120-120v-720h720v720H120Zm60-500h600v-160H180v160Zm220 220h160v-160H400v160Zm0 220h160v-160H400v160ZM180-400h160v-160H180v160Zm440 0h160v-160H620v160ZM180-180h160v-160H180v160Zm440 0h160v-160H620v160Z\"/>\n",
              "  </svg>\n",
              "    </button>\n",
              "\n",
              "  <style>\n",
              "    .colab-df-container {\n",
              "      display:flex;\n",
              "      gap: 12px;\n",
              "    }\n",
              "\n",
              "    .colab-df-convert {\n",
              "      background-color: #E8F0FE;\n",
              "      border: none;\n",
              "      border-radius: 50%;\n",
              "      cursor: pointer;\n",
              "      display: none;\n",
              "      fill: #1967D2;\n",
              "      height: 32px;\n",
              "      padding: 0 0 0 0;\n",
              "      width: 32px;\n",
              "    }\n",
              "\n",
              "    .colab-df-convert:hover {\n",
              "      background-color: #E2EBFA;\n",
              "      box-shadow: 0px 1px 2px rgba(60, 64, 67, 0.3), 0px 1px 3px 1px rgba(60, 64, 67, 0.15);\n",
              "      fill: #174EA6;\n",
              "    }\n",
              "\n",
              "    .colab-df-buttons div {\n",
              "      margin-bottom: 4px;\n",
              "    }\n",
              "\n",
              "    [theme=dark] .colab-df-convert {\n",
              "      background-color: #3B4455;\n",
              "      fill: #D2E3FC;\n",
              "    }\n",
              "\n",
              "    [theme=dark] .colab-df-convert:hover {\n",
              "      background-color: #434B5C;\n",
              "      box-shadow: 0px 1px 3px 1px rgba(0, 0, 0, 0.15);\n",
              "      filter: drop-shadow(0px 1px 2px rgba(0, 0, 0, 0.3));\n",
              "      fill: #FFFFFF;\n",
              "    }\n",
              "  </style>\n",
              "\n",
              "    <script>\n",
              "      const buttonEl =\n",
              "        document.querySelector('#df-4c2d7209-b7fb-4b48-a0bd-4bd0b97f3b5b button.colab-df-convert');\n",
              "      buttonEl.style.display =\n",
              "        google.colab.kernel.accessAllowed ? 'block' : 'none';\n",
              "\n",
              "      async function convertToInteractive(key) {\n",
              "        const element = document.querySelector('#df-4c2d7209-b7fb-4b48-a0bd-4bd0b97f3b5b');\n",
              "        const dataTable =\n",
              "          await google.colab.kernel.invokeFunction('convertToInteractive',\n",
              "                                                    [key], {});\n",
              "        if (!dataTable) return;\n",
              "\n",
              "        const docLinkHtml = 'Like what you see? Visit the ' +\n",
              "          '<a target=\"_blank\" href=https://colab.research.google.com/notebooks/data_table.ipynb>data table notebook</a>'\n",
              "          + ' to learn more about interactive tables.';\n",
              "        element.innerHTML = '';\n",
              "        dataTable['output_type'] = 'display_data';\n",
              "        await google.colab.output.renderOutput(dataTable, element);\n",
              "        const docLink = document.createElement('div');\n",
              "        docLink.innerHTML = docLinkHtml;\n",
              "        element.appendChild(docLink);\n",
              "      }\n",
              "    </script>\n",
              "  </div>\n",
              "\n",
              "\n",
              "<div id=\"df-4eb4a51c-5150-4699-8780-54e4308f0eb6\">\n",
              "  <button class=\"colab-df-quickchart\" onclick=\"quickchart('df-4eb4a51c-5150-4699-8780-54e4308f0eb6')\"\n",
              "            title=\"Suggest charts\"\n",
              "            style=\"display:none;\">\n",
              "\n",
              "<svg xmlns=\"http://www.w3.org/2000/svg\" height=\"24px\"viewBox=\"0 0 24 24\"\n",
              "     width=\"24px\">\n",
              "    <g>\n",
              "        <path d=\"M19 3H5c-1.1 0-2 .9-2 2v14c0 1.1.9 2 2 2h14c1.1 0 2-.9 2-2V5c0-1.1-.9-2-2-2zM9 17H7v-7h2v7zm4 0h-2V7h2v10zm4 0h-2v-4h2v4z\"/>\n",
              "    </g>\n",
              "</svg>\n",
              "  </button>\n",
              "\n",
              "<style>\n",
              "  .colab-df-quickchart {\n",
              "      --bg-color: #E8F0FE;\n",
              "      --fill-color: #1967D2;\n",
              "      --hover-bg-color: #E2EBFA;\n",
              "      --hover-fill-color: #174EA6;\n",
              "      --disabled-fill-color: #AAA;\n",
              "      --disabled-bg-color: #DDD;\n",
              "  }\n",
              "\n",
              "  [theme=dark] .colab-df-quickchart {\n",
              "      --bg-color: #3B4455;\n",
              "      --fill-color: #D2E3FC;\n",
              "      --hover-bg-color: #434B5C;\n",
              "      --hover-fill-color: #FFFFFF;\n",
              "      --disabled-bg-color: #3B4455;\n",
              "      --disabled-fill-color: #666;\n",
              "  }\n",
              "\n",
              "  .colab-df-quickchart {\n",
              "    background-color: var(--bg-color);\n",
              "    border: none;\n",
              "    border-radius: 50%;\n",
              "    cursor: pointer;\n",
              "    display: none;\n",
              "    fill: var(--fill-color);\n",
              "    height: 32px;\n",
              "    padding: 0;\n",
              "    width: 32px;\n",
              "  }\n",
              "\n",
              "  .colab-df-quickchart:hover {\n",
              "    background-color: var(--hover-bg-color);\n",
              "    box-shadow: 0 1px 2px rgba(60, 64, 67, 0.3), 0 1px 3px 1px rgba(60, 64, 67, 0.15);\n",
              "    fill: var(--button-hover-fill-color);\n",
              "  }\n",
              "\n",
              "  .colab-df-quickchart-complete:disabled,\n",
              "  .colab-df-quickchart-complete:disabled:hover {\n",
              "    background-color: var(--disabled-bg-color);\n",
              "    fill: var(--disabled-fill-color);\n",
              "    box-shadow: none;\n",
              "  }\n",
              "\n",
              "  .colab-df-spinner {\n",
              "    border: 2px solid var(--fill-color);\n",
              "    border-color: transparent;\n",
              "    border-bottom-color: var(--fill-color);\n",
              "    animation:\n",
              "      spin 1s steps(1) infinite;\n",
              "  }\n",
              "\n",
              "  @keyframes spin {\n",
              "    0% {\n",
              "      border-color: transparent;\n",
              "      border-bottom-color: var(--fill-color);\n",
              "      border-left-color: var(--fill-color);\n",
              "    }\n",
              "    20% {\n",
              "      border-color: transparent;\n",
              "      border-left-color: var(--fill-color);\n",
              "      border-top-color: var(--fill-color);\n",
              "    }\n",
              "    30% {\n",
              "      border-color: transparent;\n",
              "      border-left-color: var(--fill-color);\n",
              "      border-top-color: var(--fill-color);\n",
              "      border-right-color: var(--fill-color);\n",
              "    }\n",
              "    40% {\n",
              "      border-color: transparent;\n",
              "      border-right-color: var(--fill-color);\n",
              "      border-top-color: var(--fill-color);\n",
              "    }\n",
              "    60% {\n",
              "      border-color: transparent;\n",
              "      border-right-color: var(--fill-color);\n",
              "    }\n",
              "    80% {\n",
              "      border-color: transparent;\n",
              "      border-right-color: var(--fill-color);\n",
              "      border-bottom-color: var(--fill-color);\n",
              "    }\n",
              "    90% {\n",
              "      border-color: transparent;\n",
              "      border-bottom-color: var(--fill-color);\n",
              "    }\n",
              "  }\n",
              "</style>\n",
              "\n",
              "  <script>\n",
              "    async function quickchart(key) {\n",
              "      const quickchartButtonEl =\n",
              "        document.querySelector('#' + key + ' button');\n",
              "      quickchartButtonEl.disabled = true;  // To prevent multiple clicks.\n",
              "      quickchartButtonEl.classList.add('colab-df-spinner');\n",
              "      try {\n",
              "        const charts = await google.colab.kernel.invokeFunction(\n",
              "            'suggestCharts', [key], {});\n",
              "      } catch (error) {\n",
              "        console.error('Error during call to suggestCharts:', error);\n",
              "      }\n",
              "      quickchartButtonEl.classList.remove('colab-df-spinner');\n",
              "      quickchartButtonEl.classList.add('colab-df-quickchart-complete');\n",
              "    }\n",
              "    (() => {\n",
              "      let quickchartButtonEl =\n",
              "        document.querySelector('#df-4eb4a51c-5150-4699-8780-54e4308f0eb6 button');\n",
              "      quickchartButtonEl.style.display =\n",
              "        google.colab.kernel.accessAllowed ? 'block' : 'none';\n",
              "    })();\n",
              "  </script>\n",
              "</div>\n",
              "\n",
              "  <div id=\"id_d0939f9b-3879-4b1e-bbc3-153e486fe20b\">\n",
              "    <style>\n",
              "      .colab-df-generate {\n",
              "        background-color: #E8F0FE;\n",
              "        border: none;\n",
              "        border-radius: 50%;\n",
              "        cursor: pointer;\n",
              "        display: none;\n",
              "        fill: #1967D2;\n",
              "        height: 32px;\n",
              "        padding: 0 0 0 0;\n",
              "        width: 32px;\n",
              "      }\n",
              "\n",
              "      .colab-df-generate:hover {\n",
              "        background-color: #E2EBFA;\n",
              "        box-shadow: 0px 1px 2px rgba(60, 64, 67, 0.3), 0px 1px 3px 1px rgba(60, 64, 67, 0.15);\n",
              "        fill: #174EA6;\n",
              "      }\n",
              "\n",
              "      [theme=dark] .colab-df-generate {\n",
              "        background-color: #3B4455;\n",
              "        fill: #D2E3FC;\n",
              "      }\n",
              "\n",
              "      [theme=dark] .colab-df-generate:hover {\n",
              "        background-color: #434B5C;\n",
              "        box-shadow: 0px 1px 3px 1px rgba(0, 0, 0, 0.15);\n",
              "        filter: drop-shadow(0px 1px 2px rgba(0, 0, 0, 0.3));\n",
              "        fill: #FFFFFF;\n",
              "      }\n",
              "    </style>\n",
              "    <button class=\"colab-df-generate\" onclick=\"generateWithVariable('repeticiones_df')\"\n",
              "            title=\"Generate code using this dataframe.\"\n",
              "            style=\"display:none;\">\n",
              "\n",
              "  <svg xmlns=\"http://www.w3.org/2000/svg\" height=\"24px\"viewBox=\"0 0 24 24\"\n",
              "       width=\"24px\">\n",
              "    <path d=\"M7,19H8.4L18.45,9,17,7.55,7,17.6ZM5,21V16.75L18.45,3.32a2,2,0,0,1,2.83,0l1.4,1.43a1.91,1.91,0,0,1,.58,1.4,1.91,1.91,0,0,1-.58,1.4L9.25,21ZM18.45,9,17,7.55Zm-12,3A5.31,5.31,0,0,0,4.9,8.1,5.31,5.31,0,0,0,1,6.5,5.31,5.31,0,0,0,4.9,4.9,5.31,5.31,0,0,0,6.5,1,5.31,5.31,0,0,0,8.1,4.9,5.31,5.31,0,0,0,12,6.5,5.46,5.46,0,0,0,6.5,12Z\"/>\n",
              "  </svg>\n",
              "    </button>\n",
              "    <script>\n",
              "      (() => {\n",
              "      const buttonEl =\n",
              "        document.querySelector('#id_d0939f9b-3879-4b1e-bbc3-153e486fe20b button.colab-df-generate');\n",
              "      buttonEl.style.display =\n",
              "        google.colab.kernel.accessAllowed ? 'block' : 'none';\n",
              "\n",
              "      buttonEl.onclick = () => {\n",
              "        google.colab.notebook.generateWithVariable('repeticiones_df');\n",
              "      }\n",
              "      })();\n",
              "    </script>\n",
              "  </div>\n",
              "\n",
              "    </div>\n",
              "  </div>\n"
            ],
            "application/vnd.google.colaboratory.intrinsic+json": {
              "type": "dataframe",
              "variable_name": "repeticiones_df",
              "summary": "{\n  \"name\": \"repeticiones_df\",\n  \"rows\": 7,\n  \"fields\": [\n    {\n      \"column\": \"title\",\n      \"properties\": {\n        \"dtype\": \"string\",\n        \"num_unique_values\": 7,\n        \"samples\": [\n          \"automatic generation of assert statements for unit test cases\",\n          \"automatic repair of computing devices in a data center\",\n          \"secure methods and systems for environmental credit scoring\"\n        ],\n        \"semantic_type\": \"\",\n        \"description\": \"\"\n      }\n    },\n    {\n      \"column\": \"abstract\",\n      \"properties\": {\n        \"dtype\": \"string\",\n        \"num_unique_values\": 7,\n        \"samples\": [\n          \"an assert statement generator employs a neural transformer model with attention to generate candidate assert statements for a unit test method that tests a focal method. the neural transformer model is pre-trained with source code programs and natural language text and fine-tuned with test-assert triplets. a test-assert triplet includes a source code snippet that includes: (1) a unit test method with an assert placeholder; (2) the focal method; and (3) a corresponding assert statement. in this manner, the neural transformer model is trained to learn the semantics and statistical properties of a natural language, the syntax of a programming language, and the relationships between the code elements of the programming language and the syntax of an assert statement.\",\n          \"a management device for managing a plurality of computing devices in a data center may comprise a network interface, a first module that periodically sends health status queries to the computing devices via the network interface, a second module configured to receive responses to the health status queries and collect and store health status data for the computing devices, a third module configured to create support tickets, and/or a fourth module configured to (i) create and periodically update a cox proportional hazards (cph) model based on the health status data; (ii) apply a deep neural network (dnn) to the input of the cph model; (iii) determine a probability of failure for each computing device; (iv) compare each probability of failure with a threshold; and (v) cause the third module to generate a pre-failure support ticket for each computing device having determined probabilities of failure above the threshold.\",\n          \"a method and system are provided for environmental credit scoring of a plurality of users, partners, and distributors comprising: registering the plurality of users, partners, distributors, and verifiers; receiving information from the registered users; receiving environmental activity records from partners, and distributors; assigning each activity an identification number; verifying the environmental activity records; calculating a score of each environmental activity; calculating an environmental credit score of the partners and distributors; receiving data from a point of service system; identifying the environmental activity records of users, partners and distributers, and crediting respective environmental activity records; calculating an environmental credit score for the users based on the environmental activities' data credited under the environmental activity record of the users; analyzing the environmental credit score of the users, partners, and distributors; and publishing the environmental credit scores.\"\n        ],\n        \"semantic_type\": \"\",\n        \"description\": \"\"\n      }\n    },\n    {\n      \"column\": \"publication_date\",\n      \"properties\": {\n        \"dtype\": \"object\",\n        \"num_unique_values\": 7,\n        \"samples\": [\n          \"2022-03-03\",\n          \"2021-01-28\",\n          \"2021-08-19\"\n        ],\n        \"semantic_type\": \"\",\n        \"description\": \"\"\n      }\n    },\n    {\n      \"column\": \"publication_year\",\n      \"properties\": {\n        \"dtype\": \"number\",\n        \"std\": 1,\n        \"min\": 2020,\n        \"max\": 2023,\n        \"num_unique_values\": 4,\n        \"samples\": [\n          2021,\n          2023,\n          2022\n        ],\n        \"semantic_type\": \"\",\n        \"description\": \"\"\n      }\n    },\n    {\n      \"column\": \"applicants\",\n      \"properties\": {\n        \"dtype\": \"string\",\n        \"num_unique_values\": 7,\n        \"samples\": [\n          \"MICROSOFT TECHNOLOGY LICENSING LLC\",\n          \"CORE SCIENT INC\",\n          \"ABDELSAMIE MAHER A\"\n        ],\n        \"semantic_type\": \"\",\n        \"description\": \"\"\n      }\n    },\n    {\n      \"column\": \"area\",\n      \"properties\": {\n        \"dtype\": \"category\",\n        \"num_unique_values\": 2,\n        \"samples\": [\n          \"Concentraci\\u00f3n minerales\",\n          \"Extracci\\u00f3n de minerales\"\n        ],\n        \"semantic_type\": \"\",\n        \"description\": \"\"\n      }\n    },\n    {\n      \"column\": \"frecuencia\",\n      \"properties\": {\n        \"dtype\": \"number\",\n        \"std\": 0,\n        \"min\": 2,\n        \"max\": 2,\n        \"num_unique_values\": 1,\n        \"samples\": [\n          2\n        ],\n        \"semantic_type\": \"\",\n        \"description\": \"\"\n      }\n    }\n  ]\n}"
            }
          },
          "metadata": {},
          "execution_count": 71
        }
      ]
    },
    {
      "cell_type": "code",
      "source": [
        "# Obtiene las patentes que se encuentran repetidas\n",
        "repeticiones_df.shape"
      ],
      "metadata": {
        "colab": {
          "base_uri": "https://localhost:8080/"
        },
        "id": "SfEAvnCfE2jm",
        "outputId": "07d1af9b-08ac-48b7-e57a-160d91b1fb70"
      },
      "execution_count": 72,
      "outputs": [
        {
          "output_type": "execute_result",
          "data": {
            "text/plain": [
              "(7, 7)"
            ]
          },
          "metadata": {},
          "execution_count": 72
        }
      ]
    },
    {
      "cell_type": "code",
      "source": [
        "# Descarta los duplicados\n",
        "data_sin_repetidos = data.drop_duplicates()\n",
        "data_sin_repetidos.shape"
      ],
      "metadata": {
        "colab": {
          "base_uri": "https://localhost:8080/"
        },
        "id": "pSbeF-0HFNLl",
        "outputId": "fa2a88a9-b9c2-4565-b171-ea0c3f759ada"
      },
      "execution_count": 73,
      "outputs": [
        {
          "output_type": "execute_result",
          "data": {
            "text/plain": [
              "(9560, 6)"
            ]
          },
          "metadata": {},
          "execution_count": 73
        }
      ]
    },
    {
      "cell_type": "markdown",
      "source": [
        "## Filtrado en base a términos excluyentes"
      ],
      "metadata": {
        "id": "GIsxiV96T1_l"
      }
    },
    {
      "cell_type": "code",
      "source": [
        "# Definir términos excluyentes\n",
        "terminos_excluyentes = ['data mining', 'blockchain mining', 'mining transaction', 'transaction',\n",
        "               'transactional','pattern mining', 'information mining', 'word mining']"
      ],
      "metadata": {
        "id": "0uiz4HAMHtrG"
      },
      "execution_count": 74,
      "outputs": []
    },
    {
      "cell_type": "code",
      "source": [
        "def contiene_frases_excluyentes(texto, frases):\n",
        "  return any(frase in texto for frase in frases)\n",
        "\n",
        "def filtrado(data : pd.DataFrame, target_column = \"title\"):\n",
        "  # Crear el TF-IDF Vectorizer para capturar bigramas y trigramas\n",
        "  vectorizer = TfidfVectorizer(ngram_range=(1,3), stop_words='english')  # Cambiar el rango de acuerdo con la necesidad\n",
        "\n",
        "  # Ajustar y transformar el texto\n",
        "  tfidf_matrix = vectorizer.fit_transform(data[target_column])\n",
        "\n",
        "  # Convertir la matriz TF-IDF a un DataFrame para ver los resultados (opcional)\n",
        "  tfidf_df = pd.DataFrame(tfidf_matrix.toarray(), columns=vectorizer.get_feature_names_out())\n",
        "\n",
        "  # Crear una columna que indique si el texto contiene alguna de las frases excluyentes\n",
        "\n",
        "  data.loc[:,'contiene_excluyente'] = data[target_column].apply(lambda x: contiene_frases_excluyentes(x, terminos_excluyentes))\n",
        "\n",
        "  # Filtrar los registros donde 'contiene_excluyente' es False\n",
        "  df_filtrado = data[data['contiene_excluyente'] == False]\n",
        "  df_descartados = data[data['contiene_excluyente']]\n",
        "  # Eliminar la columna auxiliar\n",
        "  data_filtrada = df_filtrado.drop(columns=['contiene_excluyente'])\n",
        "  data_descartada = df_descartados.drop(columns=['contiene_excluyente'])\n",
        "\n",
        "  return data_filtrada, data_descartada"
      ],
      "metadata": {
        "id": "zKuVSqAAOGUF"
      },
      "execution_count": 75,
      "outputs": []
    },
    {
      "cell_type": "markdown",
      "source": [
        "### Filrado por título"
      ],
      "metadata": {
        "id": "y3r83YDpUBet"
      }
    },
    {
      "cell_type": "code",
      "source": [
        "# Filtra analizando el título\n",
        "filtrada_por_titulo, descartada_por_titulo = filtrado(data_sin_repetidos)\n",
        "\n",
        "print(filtrada_por_titulo.shape)\n",
        "print(descartada_por_titulo.shape)"
      ],
      "metadata": {
        "colab": {
          "base_uri": "https://localhost:8080/"
        },
        "id": "ryJ2yYSwOxn-",
        "outputId": "899ff23a-8839-466d-ac08-72ad63a825c1"
      },
      "execution_count": 87,
      "outputs": [
        {
          "output_type": "stream",
          "name": "stdout",
          "text": [
            "(9529, 6)\n",
            "(31, 6)\n"
          ]
        }
      ]
    },
    {
      "cell_type": "code",
      "source": [
        "descartada_por_titulo.groupby(\"area\").size()"
      ],
      "metadata": {
        "colab": {
          "base_uri": "https://localhost:8080/",
          "height": 241
        },
        "id": "ZmppW8H5K1cE",
        "outputId": "08410aa7-b109-408d-83d7-6b65684ef350"
      },
      "execution_count": 88,
      "outputs": [
        {
          "output_type": "execute_result",
          "data": {
            "text/plain": [
              "area\n",
              "Concentración minerales     5\n",
              "Extracción de minerales    18\n",
              "Hidrometalurgia             1\n",
              "Pirometalurgia              7\n",
              "dtype: int64"
            ],
            "text/html": [
              "<div>\n",
              "<style scoped>\n",
              "    .dataframe tbody tr th:only-of-type {\n",
              "        vertical-align: middle;\n",
              "    }\n",
              "\n",
              "    .dataframe tbody tr th {\n",
              "        vertical-align: top;\n",
              "    }\n",
              "\n",
              "    .dataframe thead th {\n",
              "        text-align: right;\n",
              "    }\n",
              "</style>\n",
              "<table border=\"1\" class=\"dataframe\">\n",
              "  <thead>\n",
              "    <tr style=\"text-align: right;\">\n",
              "      <th></th>\n",
              "      <th>0</th>\n",
              "    </tr>\n",
              "    <tr>\n",
              "      <th>area</th>\n",
              "      <th></th>\n",
              "    </tr>\n",
              "  </thead>\n",
              "  <tbody>\n",
              "    <tr>\n",
              "      <th>Concentración minerales</th>\n",
              "      <td>5</td>\n",
              "    </tr>\n",
              "    <tr>\n",
              "      <th>Extracción de minerales</th>\n",
              "      <td>18</td>\n",
              "    </tr>\n",
              "    <tr>\n",
              "      <th>Hidrometalurgia</th>\n",
              "      <td>1</td>\n",
              "    </tr>\n",
              "    <tr>\n",
              "      <th>Pirometalurgia</th>\n",
              "      <td>7</td>\n",
              "    </tr>\n",
              "  </tbody>\n",
              "</table>\n",
              "</div><br><label><b>dtype:</b> int64</label>"
            ]
          },
          "metadata": {},
          "execution_count": 88
        }
      ]
    },
    {
      "cell_type": "code",
      "source": [
        "filtrada_por_titulo.groupby(\"area\").size()"
      ],
      "metadata": {
        "colab": {
          "base_uri": "https://localhost:8080/",
          "height": 241
        },
        "id": "ViANAulqLIfF",
        "outputId": "b5ed50ba-976a-45c9-82fc-f3abf7dab4d9"
      },
      "execution_count": 89,
      "outputs": [
        {
          "output_type": "execute_result",
          "data": {
            "text/plain": [
              "area\n",
              "Concentración minerales    3155\n",
              "Extracción de minerales    4389\n",
              "Hidrometalurgia            1143\n",
              "Pirometalurgia              842\n",
              "dtype: int64"
            ],
            "text/html": [
              "<div>\n",
              "<style scoped>\n",
              "    .dataframe tbody tr th:only-of-type {\n",
              "        vertical-align: middle;\n",
              "    }\n",
              "\n",
              "    .dataframe tbody tr th {\n",
              "        vertical-align: top;\n",
              "    }\n",
              "\n",
              "    .dataframe thead th {\n",
              "        text-align: right;\n",
              "    }\n",
              "</style>\n",
              "<table border=\"1\" class=\"dataframe\">\n",
              "  <thead>\n",
              "    <tr style=\"text-align: right;\">\n",
              "      <th></th>\n",
              "      <th>0</th>\n",
              "    </tr>\n",
              "    <tr>\n",
              "      <th>area</th>\n",
              "      <th></th>\n",
              "    </tr>\n",
              "  </thead>\n",
              "  <tbody>\n",
              "    <tr>\n",
              "      <th>Concentración minerales</th>\n",
              "      <td>3155</td>\n",
              "    </tr>\n",
              "    <tr>\n",
              "      <th>Extracción de minerales</th>\n",
              "      <td>4389</td>\n",
              "    </tr>\n",
              "    <tr>\n",
              "      <th>Hidrometalurgia</th>\n",
              "      <td>1143</td>\n",
              "    </tr>\n",
              "    <tr>\n",
              "      <th>Pirometalurgia</th>\n",
              "      <td>842</td>\n",
              "    </tr>\n",
              "  </tbody>\n",
              "</table>\n",
              "</div><br><label><b>dtype:</b> int64</label>"
            ]
          },
          "metadata": {},
          "execution_count": 89
        }
      ]
    },
    {
      "cell_type": "code",
      "source": [
        "data_sin_repetidos.groupby(\"area\").size()"
      ],
      "metadata": {
        "colab": {
          "base_uri": "https://localhost:8080/",
          "height": 241
        },
        "id": "hDMeI9vRLLxH",
        "outputId": "8777e3ea-e64c-463f-bd4d-08bc381155a0"
      },
      "execution_count": 86,
      "outputs": [
        {
          "output_type": "execute_result",
          "data": {
            "text/plain": [
              "area\n",
              "Concentración minerales    3160\n",
              "Extracción de minerales    4407\n",
              "Hidrometalurgia            1144\n",
              "Pirometalurgia              849\n",
              "dtype: int64"
            ],
            "text/html": [
              "<div>\n",
              "<style scoped>\n",
              "    .dataframe tbody tr th:only-of-type {\n",
              "        vertical-align: middle;\n",
              "    }\n",
              "\n",
              "    .dataframe tbody tr th {\n",
              "        vertical-align: top;\n",
              "    }\n",
              "\n",
              "    .dataframe thead th {\n",
              "        text-align: right;\n",
              "    }\n",
              "</style>\n",
              "<table border=\"1\" class=\"dataframe\">\n",
              "  <thead>\n",
              "    <tr style=\"text-align: right;\">\n",
              "      <th></th>\n",
              "      <th>0</th>\n",
              "    </tr>\n",
              "    <tr>\n",
              "      <th>area</th>\n",
              "      <th></th>\n",
              "    </tr>\n",
              "  </thead>\n",
              "  <tbody>\n",
              "    <tr>\n",
              "      <th>Concentración minerales</th>\n",
              "      <td>3160</td>\n",
              "    </tr>\n",
              "    <tr>\n",
              "      <th>Extracción de minerales</th>\n",
              "      <td>4407</td>\n",
              "    </tr>\n",
              "    <tr>\n",
              "      <th>Hidrometalurgia</th>\n",
              "      <td>1144</td>\n",
              "    </tr>\n",
              "    <tr>\n",
              "      <th>Pirometalurgia</th>\n",
              "      <td>849</td>\n",
              "    </tr>\n",
              "  </tbody>\n",
              "</table>\n",
              "</div><br><label><b>dtype:</b> int64</label>"
            ]
          },
          "metadata": {},
          "execution_count": 86
        }
      ]
    },
    {
      "cell_type": "code",
      "source": [
        "descartada_por_titulo.query(\"area == 'Hidrometalurgia'\")['title']"
      ],
      "metadata": {
        "colab": {
          "base_uri": "https://localhost:8080/",
          "height": 115
        },
        "id": "J6oh06ZVNjTY",
        "outputId": "878199fc-059a-4288-ff14-095e7a16e050"
      },
      "execution_count": 99,
      "outputs": [
        {
          "output_type": "execute_result",
          "data": {
            "text/plain": [
              "4328    edge cache knowledge graph division method bas...\n",
              "Name: title, dtype: object"
            ],
            "text/html": [
              "<div>\n",
              "<style scoped>\n",
              "    .dataframe tbody tr th:only-of-type {\n",
              "        vertical-align: middle;\n",
              "    }\n",
              "\n",
              "    .dataframe tbody tr th {\n",
              "        vertical-align: top;\n",
              "    }\n",
              "\n",
              "    .dataframe thead th {\n",
              "        text-align: right;\n",
              "    }\n",
              "</style>\n",
              "<table border=\"1\" class=\"dataframe\">\n",
              "  <thead>\n",
              "    <tr style=\"text-align: right;\">\n",
              "      <th></th>\n",
              "      <th>title</th>\n",
              "    </tr>\n",
              "  </thead>\n",
              "  <tbody>\n",
              "    <tr>\n",
              "      <th>4328</th>\n",
              "      <td>edge cache knowledge graph division method bas...</td>\n",
              "    </tr>\n",
              "  </tbody>\n",
              "</table>\n",
              "</div><br><label><b>dtype:</b> object</label>"
            ]
          },
          "metadata": {},
          "execution_count": 99
        }
      ]
    },
    {
      "cell_type": "markdown",
      "source": [
        "### Filtrado por abstract"
      ],
      "metadata": {
        "id": "hZSAoX2OUElX"
      }
    },
    {
      "cell_type": "code",
      "source": [
        "descartada_por_titulo.query(\"area == 'Concentración minerales'\")"
      ],
      "metadata": {
        "colab": {
          "base_uri": "https://localhost:8080/",
          "height": 345
        },
        "id": "im3g0bAdNHL4",
        "outputId": "8eb71420-8612-4655-d886-b9257d7035ca"
      },
      "execution_count": 92,
      "outputs": [
        {
          "output_type": "execute_result",
          "data": {
            "text/plain": [
              "                                                  title  \\\n",
              "144      file system integration into data mining model   \n",
              "1531              interactive sequential pattern mining   \n",
              "1808  text keyword mining method and device thereof,...   \n",
              "2006            keyword mining system and mining method   \n",
              "2357  text main body keyword mining method, system a...   \n",
              "\n",
              "                                               abstract publication_date  \\\n",
              "144   aspects of a storage device including a memory...       2023-11-09   \n",
              "1531  interactive sequential pattern mining is discl...       2020-02-18   \n",
              "1808  the invention discloses a text keyword mining ...       2022-02-18   \n",
              "2006  the invention discloses a keyword mining syste...       2021-03-26   \n",
              "2357  the invention relates to the field of patent d...       2023-05-09   \n",
              "\n",
              "      publication_year                             applicants  \\\n",
              "144               2023               WESTERN DIGITAL TECH INC   \n",
              "1531              2020    ENTIT SOFTWARE LLC;;MICRO FOCUS LLC   \n",
              "1808              2022            DAZHEN HANGZHOU TECH CO LTD   \n",
              "2006              2021     SUZHOU WINNDOO NETWORK TECH CO LTD   \n",
              "2357              2023  OURCHEM INFORMATION CONSULTING CO LTD   \n",
              "\n",
              "                         area  \n",
              "144   Concentración minerales  \n",
              "1531  Concentración minerales  \n",
              "1808  Concentración minerales  \n",
              "2006  Concentración minerales  \n",
              "2357  Concentración minerales  "
            ],
            "text/html": [
              "\n",
              "  <div id=\"df-979c00d6-4831-4a27-9cf4-e5c43767ddbc\" class=\"colab-df-container\">\n",
              "    <div>\n",
              "<style scoped>\n",
              "    .dataframe tbody tr th:only-of-type {\n",
              "        vertical-align: middle;\n",
              "    }\n",
              "\n",
              "    .dataframe tbody tr th {\n",
              "        vertical-align: top;\n",
              "    }\n",
              "\n",
              "    .dataframe thead th {\n",
              "        text-align: right;\n",
              "    }\n",
              "</style>\n",
              "<table border=\"1\" class=\"dataframe\">\n",
              "  <thead>\n",
              "    <tr style=\"text-align: right;\">\n",
              "      <th></th>\n",
              "      <th>title</th>\n",
              "      <th>abstract</th>\n",
              "      <th>publication_date</th>\n",
              "      <th>publication_year</th>\n",
              "      <th>applicants</th>\n",
              "      <th>area</th>\n",
              "    </tr>\n",
              "  </thead>\n",
              "  <tbody>\n",
              "    <tr>\n",
              "      <th>144</th>\n",
              "      <td>file system integration into data mining model</td>\n",
              "      <td>aspects of a storage device including a memory...</td>\n",
              "      <td>2023-11-09</td>\n",
              "      <td>2023</td>\n",
              "      <td>WESTERN DIGITAL TECH INC</td>\n",
              "      <td>Concentración minerales</td>\n",
              "    </tr>\n",
              "    <tr>\n",
              "      <th>1531</th>\n",
              "      <td>interactive sequential pattern mining</td>\n",
              "      <td>interactive sequential pattern mining is discl...</td>\n",
              "      <td>2020-02-18</td>\n",
              "      <td>2020</td>\n",
              "      <td>ENTIT SOFTWARE LLC;;MICRO FOCUS LLC</td>\n",
              "      <td>Concentración minerales</td>\n",
              "    </tr>\n",
              "    <tr>\n",
              "      <th>1808</th>\n",
              "      <td>text keyword mining method and device thereof,...</td>\n",
              "      <td>the invention discloses a text keyword mining ...</td>\n",
              "      <td>2022-02-18</td>\n",
              "      <td>2022</td>\n",
              "      <td>DAZHEN HANGZHOU TECH CO LTD</td>\n",
              "      <td>Concentración minerales</td>\n",
              "    </tr>\n",
              "    <tr>\n",
              "      <th>2006</th>\n",
              "      <td>keyword mining system and mining method</td>\n",
              "      <td>the invention discloses a keyword mining syste...</td>\n",
              "      <td>2021-03-26</td>\n",
              "      <td>2021</td>\n",
              "      <td>SUZHOU WINNDOO NETWORK TECH CO LTD</td>\n",
              "      <td>Concentración minerales</td>\n",
              "    </tr>\n",
              "    <tr>\n",
              "      <th>2357</th>\n",
              "      <td>text main body keyword mining method, system a...</td>\n",
              "      <td>the invention relates to the field of patent d...</td>\n",
              "      <td>2023-05-09</td>\n",
              "      <td>2023</td>\n",
              "      <td>OURCHEM INFORMATION CONSULTING CO LTD</td>\n",
              "      <td>Concentración minerales</td>\n",
              "    </tr>\n",
              "  </tbody>\n",
              "</table>\n",
              "</div>\n",
              "    <div class=\"colab-df-buttons\">\n",
              "\n",
              "  <div class=\"colab-df-container\">\n",
              "    <button class=\"colab-df-convert\" onclick=\"convertToInteractive('df-979c00d6-4831-4a27-9cf4-e5c43767ddbc')\"\n",
              "            title=\"Convert this dataframe to an interactive table.\"\n",
              "            style=\"display:none;\">\n",
              "\n",
              "  <svg xmlns=\"http://www.w3.org/2000/svg\" height=\"24px\" viewBox=\"0 -960 960 960\">\n",
              "    <path d=\"M120-120v-720h720v720H120Zm60-500h600v-160H180v160Zm220 220h160v-160H400v160Zm0 220h160v-160H400v160ZM180-400h160v-160H180v160Zm440 0h160v-160H620v160ZM180-180h160v-160H180v160Zm440 0h160v-160H620v160Z\"/>\n",
              "  </svg>\n",
              "    </button>\n",
              "\n",
              "  <style>\n",
              "    .colab-df-container {\n",
              "      display:flex;\n",
              "      gap: 12px;\n",
              "    }\n",
              "\n",
              "    .colab-df-convert {\n",
              "      background-color: #E8F0FE;\n",
              "      border: none;\n",
              "      border-radius: 50%;\n",
              "      cursor: pointer;\n",
              "      display: none;\n",
              "      fill: #1967D2;\n",
              "      height: 32px;\n",
              "      padding: 0 0 0 0;\n",
              "      width: 32px;\n",
              "    }\n",
              "\n",
              "    .colab-df-convert:hover {\n",
              "      background-color: #E2EBFA;\n",
              "      box-shadow: 0px 1px 2px rgba(60, 64, 67, 0.3), 0px 1px 3px 1px rgba(60, 64, 67, 0.15);\n",
              "      fill: #174EA6;\n",
              "    }\n",
              "\n",
              "    .colab-df-buttons div {\n",
              "      margin-bottom: 4px;\n",
              "    }\n",
              "\n",
              "    [theme=dark] .colab-df-convert {\n",
              "      background-color: #3B4455;\n",
              "      fill: #D2E3FC;\n",
              "    }\n",
              "\n",
              "    [theme=dark] .colab-df-convert:hover {\n",
              "      background-color: #434B5C;\n",
              "      box-shadow: 0px 1px 3px 1px rgba(0, 0, 0, 0.15);\n",
              "      filter: drop-shadow(0px 1px 2px rgba(0, 0, 0, 0.3));\n",
              "      fill: #FFFFFF;\n",
              "    }\n",
              "  </style>\n",
              "\n",
              "    <script>\n",
              "      const buttonEl =\n",
              "        document.querySelector('#df-979c00d6-4831-4a27-9cf4-e5c43767ddbc button.colab-df-convert');\n",
              "      buttonEl.style.display =\n",
              "        google.colab.kernel.accessAllowed ? 'block' : 'none';\n",
              "\n",
              "      async function convertToInteractive(key) {\n",
              "        const element = document.querySelector('#df-979c00d6-4831-4a27-9cf4-e5c43767ddbc');\n",
              "        const dataTable =\n",
              "          await google.colab.kernel.invokeFunction('convertToInteractive',\n",
              "                                                    [key], {});\n",
              "        if (!dataTable) return;\n",
              "\n",
              "        const docLinkHtml = 'Like what you see? Visit the ' +\n",
              "          '<a target=\"_blank\" href=https://colab.research.google.com/notebooks/data_table.ipynb>data table notebook</a>'\n",
              "          + ' to learn more about interactive tables.';\n",
              "        element.innerHTML = '';\n",
              "        dataTable['output_type'] = 'display_data';\n",
              "        await google.colab.output.renderOutput(dataTable, element);\n",
              "        const docLink = document.createElement('div');\n",
              "        docLink.innerHTML = docLinkHtml;\n",
              "        element.appendChild(docLink);\n",
              "      }\n",
              "    </script>\n",
              "  </div>\n",
              "\n",
              "\n",
              "<div id=\"df-58abe57c-b990-46d0-a130-a46ef5c40e93\">\n",
              "  <button class=\"colab-df-quickchart\" onclick=\"quickchart('df-58abe57c-b990-46d0-a130-a46ef5c40e93')\"\n",
              "            title=\"Suggest charts\"\n",
              "            style=\"display:none;\">\n",
              "\n",
              "<svg xmlns=\"http://www.w3.org/2000/svg\" height=\"24px\"viewBox=\"0 0 24 24\"\n",
              "     width=\"24px\">\n",
              "    <g>\n",
              "        <path d=\"M19 3H5c-1.1 0-2 .9-2 2v14c0 1.1.9 2 2 2h14c1.1 0 2-.9 2-2V5c0-1.1-.9-2-2-2zM9 17H7v-7h2v7zm4 0h-2V7h2v10zm4 0h-2v-4h2v4z\"/>\n",
              "    </g>\n",
              "</svg>\n",
              "  </button>\n",
              "\n",
              "<style>\n",
              "  .colab-df-quickchart {\n",
              "      --bg-color: #E8F0FE;\n",
              "      --fill-color: #1967D2;\n",
              "      --hover-bg-color: #E2EBFA;\n",
              "      --hover-fill-color: #174EA6;\n",
              "      --disabled-fill-color: #AAA;\n",
              "      --disabled-bg-color: #DDD;\n",
              "  }\n",
              "\n",
              "  [theme=dark] .colab-df-quickchart {\n",
              "      --bg-color: #3B4455;\n",
              "      --fill-color: #D2E3FC;\n",
              "      --hover-bg-color: #434B5C;\n",
              "      --hover-fill-color: #FFFFFF;\n",
              "      --disabled-bg-color: #3B4455;\n",
              "      --disabled-fill-color: #666;\n",
              "  }\n",
              "\n",
              "  .colab-df-quickchart {\n",
              "    background-color: var(--bg-color);\n",
              "    border: none;\n",
              "    border-radius: 50%;\n",
              "    cursor: pointer;\n",
              "    display: none;\n",
              "    fill: var(--fill-color);\n",
              "    height: 32px;\n",
              "    padding: 0;\n",
              "    width: 32px;\n",
              "  }\n",
              "\n",
              "  .colab-df-quickchart:hover {\n",
              "    background-color: var(--hover-bg-color);\n",
              "    box-shadow: 0 1px 2px rgba(60, 64, 67, 0.3), 0 1px 3px 1px rgba(60, 64, 67, 0.15);\n",
              "    fill: var(--button-hover-fill-color);\n",
              "  }\n",
              "\n",
              "  .colab-df-quickchart-complete:disabled,\n",
              "  .colab-df-quickchart-complete:disabled:hover {\n",
              "    background-color: var(--disabled-bg-color);\n",
              "    fill: var(--disabled-fill-color);\n",
              "    box-shadow: none;\n",
              "  }\n",
              "\n",
              "  .colab-df-spinner {\n",
              "    border: 2px solid var(--fill-color);\n",
              "    border-color: transparent;\n",
              "    border-bottom-color: var(--fill-color);\n",
              "    animation:\n",
              "      spin 1s steps(1) infinite;\n",
              "  }\n",
              "\n",
              "  @keyframes spin {\n",
              "    0% {\n",
              "      border-color: transparent;\n",
              "      border-bottom-color: var(--fill-color);\n",
              "      border-left-color: var(--fill-color);\n",
              "    }\n",
              "    20% {\n",
              "      border-color: transparent;\n",
              "      border-left-color: var(--fill-color);\n",
              "      border-top-color: var(--fill-color);\n",
              "    }\n",
              "    30% {\n",
              "      border-color: transparent;\n",
              "      border-left-color: var(--fill-color);\n",
              "      border-top-color: var(--fill-color);\n",
              "      border-right-color: var(--fill-color);\n",
              "    }\n",
              "    40% {\n",
              "      border-color: transparent;\n",
              "      border-right-color: var(--fill-color);\n",
              "      border-top-color: var(--fill-color);\n",
              "    }\n",
              "    60% {\n",
              "      border-color: transparent;\n",
              "      border-right-color: var(--fill-color);\n",
              "    }\n",
              "    80% {\n",
              "      border-color: transparent;\n",
              "      border-right-color: var(--fill-color);\n",
              "      border-bottom-color: var(--fill-color);\n",
              "    }\n",
              "    90% {\n",
              "      border-color: transparent;\n",
              "      border-bottom-color: var(--fill-color);\n",
              "    }\n",
              "  }\n",
              "</style>\n",
              "\n",
              "  <script>\n",
              "    async function quickchart(key) {\n",
              "      const quickchartButtonEl =\n",
              "        document.querySelector('#' + key + ' button');\n",
              "      quickchartButtonEl.disabled = true;  // To prevent multiple clicks.\n",
              "      quickchartButtonEl.classList.add('colab-df-spinner');\n",
              "      try {\n",
              "        const charts = await google.colab.kernel.invokeFunction(\n",
              "            'suggestCharts', [key], {});\n",
              "      } catch (error) {\n",
              "        console.error('Error during call to suggestCharts:', error);\n",
              "      }\n",
              "      quickchartButtonEl.classList.remove('colab-df-spinner');\n",
              "      quickchartButtonEl.classList.add('colab-df-quickchart-complete');\n",
              "    }\n",
              "    (() => {\n",
              "      let quickchartButtonEl =\n",
              "        document.querySelector('#df-58abe57c-b990-46d0-a130-a46ef5c40e93 button');\n",
              "      quickchartButtonEl.style.display =\n",
              "        google.colab.kernel.accessAllowed ? 'block' : 'none';\n",
              "    })();\n",
              "  </script>\n",
              "</div>\n",
              "\n",
              "    </div>\n",
              "  </div>\n"
            ],
            "application/vnd.google.colaboratory.intrinsic+json": {
              "type": "dataframe",
              "repr_error": "0"
            }
          },
          "metadata": {},
          "execution_count": 92
        }
      ]
    },
    {
      "cell_type": "code",
      "source": [
        "# Filtra analizando el abstract\n",
        "filtrada_por_abstract, descartada_por_abstract = filtrado(data_sin_repetidos, \"abstract\")\n",
        "\n",
        "print(filtrada_por_abstract.shape)\n",
        "print(descartada_por_abstract.shape)"
      ],
      "metadata": {
        "colab": {
          "base_uri": "https://localhost:8080/"
        },
        "id": "l886RgCOPFJM",
        "outputId": "1e828da2-1d41-41f8-ddcb-88ce540093dd"
      },
      "execution_count": 84,
      "outputs": [
        {
          "output_type": "stream",
          "name": "stdout",
          "text": [
            "(9457, 6)\n",
            "(103, 6)\n"
          ]
        }
      ]
    },
    {
      "cell_type": "code",
      "source": [
        "descartada_por_abstract.groupby(\"area\").size()"
      ],
      "metadata": {
        "colab": {
          "base_uri": "https://localhost:8080/",
          "height": 241
        },
        "id": "ZHgfGMWwQqxM",
        "outputId": "ba8430d9-d003-4cb8-b8f9-f82e51f2ec04"
      },
      "execution_count": 90,
      "outputs": [
        {
          "output_type": "execute_result",
          "data": {
            "text/plain": [
              "area\n",
              "Concentración minerales    17\n",
              "Extracción de minerales    59\n",
              "Hidrometalurgia             4\n",
              "Pirometalurgia             23\n",
              "dtype: int64"
            ],
            "text/html": [
              "<div>\n",
              "<style scoped>\n",
              "    .dataframe tbody tr th:only-of-type {\n",
              "        vertical-align: middle;\n",
              "    }\n",
              "\n",
              "    .dataframe tbody tr th {\n",
              "        vertical-align: top;\n",
              "    }\n",
              "\n",
              "    .dataframe thead th {\n",
              "        text-align: right;\n",
              "    }\n",
              "</style>\n",
              "<table border=\"1\" class=\"dataframe\">\n",
              "  <thead>\n",
              "    <tr style=\"text-align: right;\">\n",
              "      <th></th>\n",
              "      <th>0</th>\n",
              "    </tr>\n",
              "    <tr>\n",
              "      <th>area</th>\n",
              "      <th></th>\n",
              "    </tr>\n",
              "  </thead>\n",
              "  <tbody>\n",
              "    <tr>\n",
              "      <th>Concentración minerales</th>\n",
              "      <td>17</td>\n",
              "    </tr>\n",
              "    <tr>\n",
              "      <th>Extracción de minerales</th>\n",
              "      <td>59</td>\n",
              "    </tr>\n",
              "    <tr>\n",
              "      <th>Hidrometalurgia</th>\n",
              "      <td>4</td>\n",
              "    </tr>\n",
              "    <tr>\n",
              "      <th>Pirometalurgia</th>\n",
              "      <td>23</td>\n",
              "    </tr>\n",
              "  </tbody>\n",
              "</table>\n",
              "</div><br><label><b>dtype:</b> int64</label>"
            ]
          },
          "metadata": {},
          "execution_count": 90
        }
      ]
    },
    {
      "cell_type": "code",
      "source": [
        "filtrada_por_abstract.groupby(\"area\").size()"
      ],
      "metadata": {
        "colab": {
          "base_uri": "https://localhost:8080/",
          "height": 241
        },
        "id": "fvvoIbSBQvPX",
        "outputId": "b6ae0e38-6976-464f-c51c-5f5c8e0fe1d9"
      },
      "execution_count": 91,
      "outputs": [
        {
          "output_type": "execute_result",
          "data": {
            "text/plain": [
              "area\n",
              "Concentración minerales    3143\n",
              "Extracción de minerales    4348\n",
              "Hidrometalurgia            1140\n",
              "Pirometalurgia              826\n",
              "dtype: int64"
            ],
            "text/html": [
              "<div>\n",
              "<style scoped>\n",
              "    .dataframe tbody tr th:only-of-type {\n",
              "        vertical-align: middle;\n",
              "    }\n",
              "\n",
              "    .dataframe tbody tr th {\n",
              "        vertical-align: top;\n",
              "    }\n",
              "\n",
              "    .dataframe thead th {\n",
              "        text-align: right;\n",
              "    }\n",
              "</style>\n",
              "<table border=\"1\" class=\"dataframe\">\n",
              "  <thead>\n",
              "    <tr style=\"text-align: right;\">\n",
              "      <th></th>\n",
              "      <th>0</th>\n",
              "    </tr>\n",
              "    <tr>\n",
              "      <th>area</th>\n",
              "      <th></th>\n",
              "    </tr>\n",
              "  </thead>\n",
              "  <tbody>\n",
              "    <tr>\n",
              "      <th>Concentración minerales</th>\n",
              "      <td>3143</td>\n",
              "    </tr>\n",
              "    <tr>\n",
              "      <th>Extracción de minerales</th>\n",
              "      <td>4348</td>\n",
              "    </tr>\n",
              "    <tr>\n",
              "      <th>Hidrometalurgia</th>\n",
              "      <td>1140</td>\n",
              "    </tr>\n",
              "    <tr>\n",
              "      <th>Pirometalurgia</th>\n",
              "      <td>826</td>\n",
              "    </tr>\n",
              "  </tbody>\n",
              "</table>\n",
              "</div><br><label><b>dtype:</b> int64</label>"
            ]
          },
          "metadata": {},
          "execution_count": 91
        }
      ]
    },
    {
      "cell_type": "code",
      "source": [
        "data_sin_repetidos.groupby(\"area\").size()"
      ],
      "metadata": {
        "colab": {
          "base_uri": "https://localhost:8080/",
          "height": 241
        },
        "id": "fMHJyDyuUP2e",
        "outputId": "0df307c8-fcb1-4402-8b2e-6855724aa70a"
      },
      "execution_count": 100,
      "outputs": [
        {
          "output_type": "execute_result",
          "data": {
            "text/plain": [
              "area\n",
              "Concentración minerales    3160\n",
              "Extracción de minerales    4407\n",
              "Hidrometalurgia            1144\n",
              "Pirometalurgia              849\n",
              "dtype: int64"
            ],
            "text/html": [
              "<div>\n",
              "<style scoped>\n",
              "    .dataframe tbody tr th:only-of-type {\n",
              "        vertical-align: middle;\n",
              "    }\n",
              "\n",
              "    .dataframe tbody tr th {\n",
              "        vertical-align: top;\n",
              "    }\n",
              "\n",
              "    .dataframe thead th {\n",
              "        text-align: right;\n",
              "    }\n",
              "</style>\n",
              "<table border=\"1\" class=\"dataframe\">\n",
              "  <thead>\n",
              "    <tr style=\"text-align: right;\">\n",
              "      <th></th>\n",
              "      <th>0</th>\n",
              "    </tr>\n",
              "    <tr>\n",
              "      <th>area</th>\n",
              "      <th></th>\n",
              "    </tr>\n",
              "  </thead>\n",
              "  <tbody>\n",
              "    <tr>\n",
              "      <th>Concentración minerales</th>\n",
              "      <td>3160</td>\n",
              "    </tr>\n",
              "    <tr>\n",
              "      <th>Extracción de minerales</th>\n",
              "      <td>4407</td>\n",
              "    </tr>\n",
              "    <tr>\n",
              "      <th>Hidrometalurgia</th>\n",
              "      <td>1144</td>\n",
              "    </tr>\n",
              "    <tr>\n",
              "      <th>Pirometalurgia</th>\n",
              "      <td>849</td>\n",
              "    </tr>\n",
              "  </tbody>\n",
              "</table>\n",
              "</div><br><label><b>dtype:</b> int64</label>"
            ]
          },
          "metadata": {},
          "execution_count": 100
        }
      ]
    },
    {
      "cell_type": "code",
      "source": [
        "descartada_por_abstract.query(\"area == 'Hidrometalurgia'\")['abstract']"
      ],
      "metadata": {
        "colab": {
          "base_uri": "https://localhost:8080/",
          "height": 210
        },
        "id": "I3D1ONkPQ-Bz",
        "outputId": "430a3c58-f182-4f74-e460-16c5b5890972"
      },
      "execution_count": 94,
      "outputs": [
        {
          "output_type": "execute_result",
          "data": {
            "text/plain": [
              "4328    the invention provides an edge cache knowledge...\n",
              "4341    the invention relates to the technical field o...\n",
              "4527    the invention discloses an intelligent data se...\n",
              "4970    the invention relates to a low-weak light imag...\n",
              "Name: abstract, dtype: object"
            ],
            "text/html": [
              "<div>\n",
              "<style scoped>\n",
              "    .dataframe tbody tr th:only-of-type {\n",
              "        vertical-align: middle;\n",
              "    }\n",
              "\n",
              "    .dataframe tbody tr th {\n",
              "        vertical-align: top;\n",
              "    }\n",
              "\n",
              "    .dataframe thead th {\n",
              "        text-align: right;\n",
              "    }\n",
              "</style>\n",
              "<table border=\"1\" class=\"dataframe\">\n",
              "  <thead>\n",
              "    <tr style=\"text-align: right;\">\n",
              "      <th></th>\n",
              "      <th>abstract</th>\n",
              "    </tr>\n",
              "  </thead>\n",
              "  <tbody>\n",
              "    <tr>\n",
              "      <th>4328</th>\n",
              "      <td>the invention provides an edge cache knowledge...</td>\n",
              "    </tr>\n",
              "    <tr>\n",
              "      <th>4341</th>\n",
              "      <td>the invention relates to the technical field o...</td>\n",
              "    </tr>\n",
              "    <tr>\n",
              "      <th>4527</th>\n",
              "      <td>the invention discloses an intelligent data se...</td>\n",
              "    </tr>\n",
              "    <tr>\n",
              "      <th>4970</th>\n",
              "      <td>the invention relates to a low-weak light imag...</td>\n",
              "    </tr>\n",
              "  </tbody>\n",
              "</table>\n",
              "</div><br><label><b>dtype:</b> object</label>"
            ]
          },
          "metadata": {},
          "execution_count": 94
        }
      ]
    },
    {
      "cell_type": "markdown",
      "source": [
        "# Genera archivos de salida\n",
        "\n",
        "Se obtienen archivos de CSV y XLSX con las patentes descartadas; esto es para el análisis posterior"
      ],
      "metadata": {
        "id": "N-DVxAixSVvt"
      }
    },
    {
      "cell_type": "code",
      "source": [
        "# Crear la carpeta data si no existe\n",
        "!mkdir -p generate"
      ],
      "metadata": {
        "id": "KewKDnklSNGL"
      },
      "execution_count": 95,
      "outputs": []
    },
    {
      "cell_type": "code",
      "source": [
        "# Exportar solo las columnas 'title' y 'abstract' a un archivo de texto\n",
        "descartada_por_abstract[['area', 'abstract']].to_csv('generate/descartadas_por_abstract.csv', sep='\\t', index=False, header=True)\n",
        "descartada_por_titulo[['area', 'title']].to_csv('generate/descartadas_por_titulo.csv', sep='\\t', index=False, header=True)"
      ],
      "metadata": {
        "id": "Bcd6Q9EDR73S"
      },
      "execution_count": 101,
      "outputs": []
    },
    {
      "cell_type": "code",
      "source": [
        "descartada_por_titulo[['area', 'title']].to_excel('generate/descartadas_por_titulo.xlsx',\n",
        "                                                  index=False, sheet_name='Descartadas')\n",
        "\n",
        "descartada_por_abstract[['area', 'abstract']].to_excel('generate/descartadas_por_abstract.xlsx',\n",
        "                                                  index=False, sheet_name='Descartadas')"
      ],
      "metadata": {
        "id": "e-8lpeYaU8xC"
      },
      "execution_count": 102,
      "outputs": []
    },
    {
      "cell_type": "markdown",
      "source": [
        "\n",
        "\n",
        "---\n",
        "\n",
        "\n",
        "@author - Jazna Meza Hidalgo\n",
        "\n",
        "@version - 2024"
      ],
      "metadata": {
        "id": "R6gmt-_qWEKH"
      }
    }
  ]
}